{
 "cells": [
  {
   "cell_type": "markdown",
   "metadata": {},
   "source": [
    "# Description du projet dépendance\n",
    "\n",
    "## Ajustement du pas de transition de 1 à 2 ans\n",
    "\n",
    "L'objet $correction\\_coefficient$ permet d'ajuster le pas de transition de 1 à 2 ans.\n",
    "\n",
    "On récupère d'abord les projections de mortalité de l'INSEE."
   ]
  },
  {
   "cell_type": "code",
   "execution_count": 2,
   "metadata": {},
   "outputs": [
    {
     "ename": "ModuleNotFoundError",
     "evalue": "No module named 'til_france'",
     "output_type": "error",
     "traceback": [
      "\u001b[1;31m---------------------------------------------------------------------------\u001b[0m",
      "\u001b[1;31mModuleNotFoundError\u001b[0m                       Traceback (most recent call last)",
      "\u001b[1;32m<ipython-input-2-cb2b92874e72>\u001b[0m in \u001b[0;36m<module>\u001b[1;34m()\u001b[0m\n\u001b[1;32m----> 1\u001b[1;33m \u001b[1;32mfrom\u001b[0m \u001b[0mtil_france\u001b[0m\u001b[1;33m.\u001b[0m\u001b[0mmodel\u001b[0m\u001b[1;33m.\u001b[0m\u001b[0moptions\u001b[0m\u001b[1;33m.\u001b[0m\u001b[0mdependance_RT\u001b[0m\u001b[1;33m.\u001b[0m\u001b[0mlife_expectancy\u001b[0m\u001b[1;33m.\u001b[0m\u001b[0mcalibration\u001b[0m \u001b[1;32mimport\u001b[0m \u001b[0mget_insee_projected_mortality\u001b[0m\u001b[1;33m\u001b[0m\u001b[0m\n\u001b[0m\u001b[0;32m      2\u001b[0m \u001b[1;33m\u001b[0m\u001b[0m\n\u001b[0;32m      3\u001b[0m \u001b[0mprojected_mortality\u001b[0m \u001b[1;33m=\u001b[0m \u001b[0mget_insee_projected_mortality\u001b[0m\u001b[1;33m(\u001b[0m\u001b[1;33m)\u001b[0m\u001b[1;33m\u001b[0m\u001b[0m\n\u001b[0;32m      4\u001b[0m \u001b[1;33m\u001b[0m\u001b[0m\n\u001b[0;32m      5\u001b[0m target_mortality = (projected_mortality\n",
      "\u001b[1;31mModuleNotFoundError\u001b[0m: No module named 'til_france'"
     ]
    }
   ],
   "source": [
    "from til_france.model.options.dependance_RT.life_expectancy.calibration import get_insee_projected_mortality\n",
    "\n",
    "projected_mortality = get_insee_projected_mortality()\n",
    "\n",
    "target_mortality = (projected_mortality\n",
    "    .query('year == @period')\n",
    "    .rename(columns = {'mortality': 'target_mortality'})\n",
    "    .reset_index()\n",
    "    .drop('year', axis = 1)\n",
    "    )\n"
   ]
  },
  {
   "cell_type": "markdown",
   "metadata": {},
   "source": [
    "$target\\_mortality$ : projection Insee de décès\n",
    "\n",
    "$(1 - target\\_mortality)$ : probabilité de survivre dans l'année\n",
    "\n",
    "$(1 - target\\_mortality)** 2$ : probabilité de mourir durant les deux années suivantes\n",
    "\n",
    "$(1 - (1 - target\\_mortality) ** 2 )$ : probabilité de mourir dans les deux années suivantes\n",
    "\n",
    "$actual\\_mortality['part']$  : part d'individus par groupe âge sex qui meurt chaque année"
   ]
  },
  {
   "cell_type": "code",
   "execution_count": null,
   "metadata": {
    "collapsed": true
   },
   "outputs": [],
   "source": []
  }
 ],
 "metadata": {
  "kernelspec": {
   "display_name": "Python 3",
   "language": "python",
   "name": "python3"
  }
 },
 "nbformat": 4,
 "nbformat_minor": 2
}
